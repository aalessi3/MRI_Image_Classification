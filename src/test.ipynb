{
 "cells": [
  {
   "cell_type": "code",
   "execution_count": 24,
   "metadata": {},
   "outputs": [
    {
     "name": "stdout",
     "output_type": "stream",
     "text": [
      "torch.Size([2, 4])\n"
     ]
    }
   ],
   "source": [
    "\"\"\"This is just for verifying output dimensions\"\"\"\n",
    "\n",
    "import torch\n",
    "import torch.nn as nn\n",
    "\n",
    "input = torch.rand([2, 3, 224, 224])\n",
    "model = nn.Sequential(\n",
    "          nn.Conv2d(3, 6, kernel_size=3, stride=1, padding=1), #[3 x 224 x 224] ---> [6 x 224 X 224]\n",
    "            nn.MaxPool2d(kernel_size=3, stride=2, padding=1), # [6 x 224 x 224]  --> [6 x 112 x 112]\n",
    "            nn.ReLU(inplace=True),\n",
    "            nn.Conv2d(6, 12, kernel_size=3, stride=1, padding=1),\n",
    "            nn.MaxPool2d(kernel_size=3, stride=2, padding=1), #output : [12 x 56 x 56]\n",
    "            nn.ReLU(inplace=True),\n",
    "            nn.Conv2d(12, 24, kernel_size=3, stride=1, padding=1),\n",
    "            nn.MaxPool2d(kernel_size=3, stride=2, padding=1), #output : [24 x 28 x 28]\n",
    "            nn.ReLU(inplace=True),\n",
    "            nn.Flatten(1), #output [24*28*28]\n",
    "            nn.Linear(24*28*28, 4), \n",
    "            nn.Softmax(dim = 1)\n",
    ")\n",
    "output = model(input)\n",
    "print(output.size())"
   ]
  }
 ],
 "metadata": {
  "kernelspec": {
   "display_name": "Python 3.10.6 ('ML_final')",
   "language": "python",
   "name": "python3"
  },
  "language_info": {
   "codemirror_mode": {
    "name": "ipython",
    "version": 3
   },
   "file_extension": ".py",
   "mimetype": "text/x-python",
   "name": "python",
   "nbconvert_exporter": "python",
   "pygments_lexer": "ipython3",
   "version": "3.10.6"
  },
  "orig_nbformat": 4,
  "vscode": {
   "interpreter": {
    "hash": "1a870202c823fe9142bec1dca5633387287bd8b95777441bd030c53db2a4d8a4"
   }
  }
 },
 "nbformat": 4,
 "nbformat_minor": 2
}
